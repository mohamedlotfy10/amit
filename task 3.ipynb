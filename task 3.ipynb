{
 "cells": [
  {
   "cell_type": "code",
   "execution_count": 39,
   "id": "69f51103",
   "metadata": {},
   "outputs": [
    {
     "name": "stdout",
     "output_type": "stream",
     "text": [
      "please enter your choice:rock\n",
      "computer choice is:  rock your choice is: rock it's a draw!\n"
     ]
    }
   ],
   "source": [
    "import random\n",
    "comp=[\"rock\",\"paper\",\"scissors\"]\n",
    "x=random.choice(comp)\n",
    "mychoice=input(str(\"please enter your choice:\"))\n",
    "\n",
    "if x==mychoice:\n",
    "        print(\"computer choice is: \",x,\"your choice is:\",mychoice,\"it's a draw!\")\n",
    "elif (x==\"paper\",mychoice==\"rock\"):\n",
    "        print(\"computer choice is:\",x,\"your choice is:\",mychoice,\"computer wins!\")\n",
    "elif (x==\"paper\",mychoice==\"scissors\"):\n",
    "        print(\"computer choice is:\",x,\"your choice is:\",mychoice,\"you win!\")\n",
    "elif (x==\"scissors\",mychoice==\"paper\"):\n",
    "        print(\"computer choice is:\",x,\"your choice is:\",mychoice,\"computer wins!\")\n",
    "elif (x==\"scissors\",mychoice==\"rock\"):\n",
    "        print(\"computer choice is:\",x,\"your choice is:\",mychoice,\" you win!\")\n",
    "elif (x==\"rock\",mychoice==\"scissors\"):\n",
    "    print(\"computer choice is:\",x,\"your choice is:\",mychoice,\" computer win!\")\n",
    "elif (x==\"rock\",mychoice==\"paper\"):\n",
    "    print(\"computer choice is:\",x,\"your choice is:\",mychoice,\" you win!\")    \n",
    "else:\n",
    "    print(\"please try again\")\n",
    "\n",
    "\n",
    "\n",
    "\n",
    "\n",
    "    \n",
    "    \n",
    "    \n"
   ]
  },
  {
   "cell_type": "code",
   "execution_count": null,
   "id": "3366f188",
   "metadata": {},
   "outputs": [],
   "source": []
  }
 ],
 "metadata": {
  "kernelspec": {
   "display_name": "Python 3 (ipykernel)",
   "language": "python",
   "name": "python3"
  },
  "language_info": {
   "codemirror_mode": {
    "name": "ipython",
    "version": 3
   },
   "file_extension": ".py",
   "mimetype": "text/x-python",
   "name": "python",
   "nbconvert_exporter": "python",
   "pygments_lexer": "ipython3",
   "version": "3.10.9"
  }
 },
 "nbformat": 4,
 "nbformat_minor": 5
}
